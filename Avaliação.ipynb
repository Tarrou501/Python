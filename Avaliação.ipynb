{
 "cells": [
  {
   "cell_type": "markdown",
   "id": "da05d283",
   "metadata": {},
   "source": [
    "# Código 08\n",
    "- Faça um Programa que leia três números e mostre o maior e o menor deles."
   ]
  },
  {
   "cell_type": "code",
   "execution_count": 3,
   "id": "4f680ce8",
   "metadata": {},
   "outputs": [
    {
     "name": "stdout",
     "output_type": "stream",
     "text": [
      "Digite o numero 1: 6\n",
      "Digite o numero 2: 1\n",
      "Digite o numero 3: 2\n",
      "menor numero é 1 e o  maior e 6\n"
     ]
    }
   ],
   "source": [
    "vetor =[]\n",
    "for i in range(3):\n",
    "    vetor.append(int(input(f'Digite o numero {i+1}: ')))\n",
    "    \n",
    "menor = vetor[0]\n",
    "maior = vetor[0]\n",
    "for i in range(0,3):\n",
    "    if (menor > vetor[i]):\n",
    "        menor = vetor[i]\n",
    "    if (maior < vetor[i]):\n",
    "        maior = vetor[i]\n",
    "print(f'menor numero é {menor} e o  maior e {maior}')\n"
   ]
  },
  {
   "cell_type": "markdown",
   "id": "bfee0e67",
   "metadata": {},
   "source": [
    "# Código 09 -\n",
    "Faça um Programa que leia 2 números e em seguida pergunte ao usuário qual operação ele deseja realizar. O resultado da operação deve ser acompanhado de uma frase que diga se o número é:  \n",
    "par ou ímpar;\n",
    "\n",
    "·        positivo ou negativo;\n",
    "\n",
    "·        inteiro ou decimal.\n",
    "\n",
    "*\n"
   ]
  },
  {
   "cell_type": "code",
   "execution_count": 26,
   "id": "bfc04522",
   "metadata": {},
   "outputs": [
    {
     "name": "stdout",
     "output_type": "stream",
     "text": [
      "Informe um numero:3.1\n",
      " 3.1 é decimal\n",
      " 3.1 é positivo\n",
      "Informe um numero:2\n",
      " 2.0 é inteiro\n",
      " 2.0 é par\n",
      " 2.0 é positivo\n"
     ]
    }
   ],
   "source": [
    "\n",
    "for i in range(0,2):\n",
    "    num = float(input('Informe um numero:'))\n",
    "    if num.is_integer():\n",
    "        print(f' {num} é inteiro')\n",
    "        if num % 2 ==0 :\n",
    "            print(f' {num} é par') \n",
    "        else:\n",
    "            print(f' {num} é impar') \n",
    "    else:\n",
    "        print(f' {num} é decimal')           \n",
    "    if num >0:\n",
    "        print(f' {num} é positivo') \n",
    "    elif num <0:\n",
    "         print(f' {num} é negativo') \n",
    "    else:\n",
    "        printf('Numero é zero')\n",
    "    \n",
    "        "
   ]
  },
  {
   "cell_type": "markdown",
   "id": "acbe08cb",
   "metadata": {},
   "source": [
    "\n"
   ]
  },
  {
   "cell_type": "markdown",
   "id": "eb198333",
   "metadata": {},
   "source": [
    "# Código 06 -\n",
    "Escreva um programa que solicite ao usuário o nome de um mês e verifique se ele corresponde a um mês de verão (dezembro, janeiro ou fevereiro). Em seguida, exiba a mensagem correspondente."
   ]
  },
  {
   "cell_type": "code",
   "execution_count": 44,
   "id": "27e99083",
   "metadata": {},
   "outputs": [
    {
     "name": "stdout",
     "output_type": "stream",
     "text": [
      "Digite o nome do mês abreviado (3 letras, ex: jan, fev mar):fev\n",
      "O mês de fev  é um mês de verão \n"
     ]
    }
   ],
   "source": [
    "mes = input('Digite o nome do mês abreviado (3 letras, ex: jan, fev mar):')\n",
    "mes = mes.lower()\n",
    "\n",
    "print(f'O mês de {mes}  é um mês de verão ' if ( mes == 'jan' or mes == 'fev' or mes == 'dez') else f'O mês de {mes} não é um mês de verão ')"
   ]
  },
  {
   "cell_type": "markdown",
   "id": "6f8633bb",
   "metadata": {},
   "source": [
    "# Código 01 - \n",
    "Escreva um programa que solicite ao usuário um número inteiro e verifique se ele é um número positivo. Em seguida, exiba a mensagem correspondente"
   ]
  },
  {
   "cell_type": "code",
   "execution_count": 44,
   "id": "e030c959",
   "metadata": {},
   "outputs": [
    {
     "name": "stdout",
     "output_type": "stream",
     "text": [
      "Digite o numero inteiro:3\n",
      "O número 3 é positivo\n"
     ]
    }
   ],
   "source": [
    "num = int(input('Digite o numero inteiro:'))\n",
    "print(f'O número {num} é positivo' if  num > 0 else f'O numero {num} é negativo ' if num <0 else f'número {num} é neutro')"
   ]
  },
  {
   "cell_type": "markdown",
   "id": "e3e09aec",
   "metadata": {},
   "source": [
    "# Código 03\n",
    "-  Escreva um programa que solicite ao usuário a idade de uma pessoa e verifique se ela é maior de idade (idade igual ou superior a 18) e se possui carteira de motorista. Em seguida, exiba a mensagem correspondente."
   ]
  },
  {
   "cell_type": "code",
   "execution_count": 11,
   "id": "897de732",
   "metadata": {},
   "outputs": [
    {
     "name": "stdout",
     "output_type": "stream",
     "text": [
      "Informe a idade:18\n",
      "Possui carteira de motorista? (S/N) :s\n",
      "Maior de Idade,  possui carterira de motorista\n"
     ]
    }
   ],
   "source": [
    "idade = int(input('Informe a idade:'))\n",
    "\n",
    "if (idade >=18):\n",
    "    possuiHabiltacao = input('Possui carteira de motorista? (S/N) :')\n",
    "    print('Maior de Idade,', ' possui carterira de motorista' if possuiHabiltacao.upper() == 'S' else 'não possui carteira de motorista')\n",
    "else:\n",
    "    print('Menor de Idade, não possui habilitação')"
   ]
  },
  {
   "cell_type": "markdown",
   "id": "ccdf3265",
   "metadata": {},
   "source": [
    "# Código 05 \n",
    "-  Escreva um programa que solicite ao usuário um número inteiro e verifique se ele é um número primo. Em seguida, exiba a mensagem correspondente. (Reutilize a questão anterior ou elabore um código diferente)."
   ]
  },
  {
   "cell_type": "code",
   "execution_count": 27,
   "id": "9e0f48b3",
   "metadata": {},
   "outputs": [
    {
     "name": "stdout",
     "output_type": "stream",
     "text": [
      "Informe um numero:20\n",
      "O numero 20  não é primo\n"
     ]
    }
   ],
   "source": [
    "def primo(numero): \n",
    "    is_primo = False\n",
    "    if numero > 1:\n",
    "        is_primo = True\n",
    "        for i in range(2,numero):\n",
    "            if (numero % i ==0):\n",
    "                is_primo = False\n",
    "                break\n",
    "    return is_primo\n",
    "\n",
    "numero = int(input('Informe um numero:'))\n",
    "\n",
    "print('O numero %d' % (numero), ' é primo' if primo(numero) else ' não é primo')\n",
    "\n",
    "            "
   ]
  },
  {
   "cell_type": "markdown",
   "id": "1ca7b24a",
   "metadata": {},
   "source": [
    "# Código 04 \n",
    "- Escreva um programa que solicite ao usuário um número inteiro e verifique se ele é um número perfeito. Um número perfeito é aquele cuja soma dos seus divisores (excluindo ele mesmo) é igual ao próprio número. Por exemplo, 6 é um número perfeito, pois seus divisores são 1, 2 e 3, e 1 + 2 + 3 = 6."
   ]
  },
  {
   "cell_type": "code",
   "execution_count": 34,
   "id": "01cbb269",
   "metadata": {},
   "outputs": [
    {
     "name": "stdout",
     "output_type": "stream",
     "text": [
      "Informe um numero:28\n",
      "28\n",
      "O numero 28  é um Número Perfeito\n"
     ]
    }
   ],
   "source": [
    "def numero_perfeito(numero): \n",
    "    soma = 0\n",
    "    for i in range(1,numero):\n",
    "        if (numero % i == 0):\n",
    "            soma += i\n",
    "    print(soma)\n",
    "    return soma == numero\n",
    "\n",
    "numero = int(input('Informe um numero:'))\n",
    "\n",
    "print('O numero %d' % (numero), ' é um Número Perfeito' if numero_perfeito(numero) else ' não é um Número Perfeito')"
   ]
  },
  {
   "cell_type": "markdown",
   "id": "e158fda2",
   "metadata": {},
   "source": [
    "# Código 07\n",
    "-  Escreva um programa que solicite ao usuário um número inteiro e verifique se ele é um quadrado perfeito. Um número é considerado um quadrado perfeito quando sua raiz quadrada é um número inteiro.\n",
    "\n"
   ]
  },
  {
   "cell_type": "code",
   "execution_count": 39,
   "id": "953cf45b",
   "metadata": {},
   "outputs": [
    {
     "name": "stdout",
     "output_type": "stream",
     "text": [
      "Informe um numero:25\n",
      "O numero 25  é um Quadrado Perfeito\n"
     ]
    }
   ],
   "source": [
    "import math\n",
    "def quadrado_perfeito(numero): \n",
    "    raiz = math.sqrt(numero)\n",
    "    return raiz.is_integer()\n",
    "\n",
    "numero = int(input('Informe um numero:'))\n",
    "\n",
    "print('O numero %d' % (numero), ' é um Quadrado Perfeito' if quadrado_perfeito(numero) else ' não é um Quadrado Perfeito')"
   ]
  },
  {
   "cell_type": "markdown",
   "id": "83238887",
   "metadata": {},
   "source": [
    "# Código 10 \n",
    "- Faça um programa para o cálculo de uma folha de pagamento, sabendo que os descontos são do Imposto de Renda, que depende do salário bruto (conforme tabela abaixo) e 3% para o Sindicato e que o FGTS corresponde a 11% do Salário Bruto, mas não é descontado (é a empresa que deposita). O Salário Líquido corresponde ao Salário Bruto menos os descontos. O programa deverá pedir ao usuário o valor da sua hora e a quantidade de horas trabalhadas no mês.\n",
    "Desconto do IR:\n",
    "\n",
    "·        Salário Bruto até 900 (inclusive) – isento\n",
    "\n",
    "·        Salário Bruto até 1500 (inclusive) - desconto de 5%\n",
    "\n",
    "·        Salário Bruto até 2500 (inclusive) - desconto de 10%\n",
    "\n",
    "·        Salário Bruto acima de 2500 - desconto de 20% "
   ]
  },
  {
   "cell_type": "code",
   "execution_count": 48,
   "id": "0236a570",
   "metadata": {},
   "outputs": [
    {
     "name": "stdout",
     "output_type": "stream",
     "text": [
      "Informe a quantidade den horas trabalhada no mês: 900\n",
      "Informe o valor hora/salário R$ 6\n",
      "Salário bruto R$ 5400.00\n",
      "Desconto Sindicato: R$ 162.00\n",
      "Desconto FGTS     : R$ 594.00\n",
      "Desconto IRPF     : R$ 1080.00   ->  Salário Bruto acima de 2500 - desconto de 20%\n",
      "Salário líquido   : R$ 3564.00\n"
     ]
    }
   ],
   "source": [
    "SINDICATO =3\n",
    "FGTS = 11\n",
    "quantidade_hora = int(input('Informe a quantidade den horas trabalhada no mês: '))\n",
    "valor_hora_salario = float(input('Informe o valor hora/salário R$ '))\n",
    "salario_bruto = quantidade_hora  * valor_hora_salario\n",
    "tabela_deducao = {2500:[20,'Salário Bruto acima de 2500 - desconto de 20%'],\n",
    "                  1500:[10,'Salário Bruto até 2500 (inclusive) - desconto de 10%'],\n",
    "                  900:[5,'Salário Bruto até 1500 (inclusive) - desconto de 5%']}\n",
    "\n",
    "desconto_sindicato = (salario_bruto * SINDICATO/100)\n",
    "desconto_fgts =  (salario_bruto * FGTS/100)\n",
    "desconto_ir= 0\n",
    "descricao_imposto ='Salário Bruto até 900 (inclusive) – isento'\n",
    "for salario in tabela_deducao:\n",
    "    if salario_bruto > salario:  \n",
    "        deducao = tabela_deducao.get(salario)\n",
    "        descricao_imposto = deducao[1]\n",
    "        desconto_ir = (salario_bruto * deducao[0]/100)\n",
    "        break\n",
    "salario_liquido =  salario_bruto - desconto_sindicato - desconto_fgts - desconto_ir     \n",
    "print(\"Salário bruto R$ {:.2f}\".format(salario_bruto ))\n",
    "print(\"Desconto Sindicato: R$ {:.2f}\".format(desconto_sindicato ) )\n",
    "print(\"Desconto FGTS     : R$ {:.2f}\".format(desconto_fgts ) )\n",
    "print(\"Desconto IRPF     : R$ {:.2f}\".format(desconto_ir ),'  -> ',descricao_imposto )\n",
    "print(\"Salário líquido   : R$ {:.2f}\".format(salario_liquido) )"
   ]
  },
  {
   "cell_type": "markdown",
   "id": "62972e8e",
   "metadata": {},
   "source": [
    "Programação usando classe, subclasse"
   ]
  },
  {
   "cell_type": "code",
   "execution_count": 7,
   "id": "cea3bc05",
   "metadata": {},
   "outputs": [
    {
     "name": "stdout",
     "output_type": "stream",
     "text": [
      "Número: 4.0\n",
      "Inteiro: True\n",
      "Decimal: False\n",
      "Quadrado Perfeito: True\n",
      "Inteiro: 31\n",
      "par: False\n",
      "primo: True\n",
      "Quadrado Perfeito: False\n",
      "Numero Perfeito: False\n"
     ]
    }
   ],
   "source": [
    "import math\n",
    "\n",
    "class Numero:\n",
    "    def __init__(self, valor):\n",
    "        self._valor = float(valor)\n",
    "    \n",
    "    # getter method\n",
    "    def get_valor(self):\n",
    "        return self._valor\n",
    "    \n",
    "     # setter method\n",
    "    def set_valor(self, x):\n",
    "        self._valor = x\n",
    "        \n",
    "    def is_inteiro(self):\n",
    "        return self._valor.is_integer()\n",
    "    \n",
    "    def is_decimal(self):\n",
    "        return not self.is_inteiro()\n",
    "    def is_positivo(self):\n",
    "        return self._valor >0\n",
    "\n",
    "    def is_negativo(self):\n",
    "        return self._valor < 0\n",
    "    \n",
    "    def is_neutro(self):\n",
    "        return self._valor == 0\n",
    "    \n",
    "    def is_quadrado_perfeito(self): \n",
    "        raiz = math.sqrt(self._valor)\n",
    "        return raiz.is_integer()\n",
    "    \n",
    "class Inteiro(Numero):\n",
    "    def __init__(self, valor):\n",
    "        super().__init__(int(valor))\n",
    "      \n",
    "    def __is_divisivel_por(self,divisor):\n",
    "        return self.get_valor() % divisor == 0\n",
    "\n",
    "    def is_par(self):\n",
    "        return self.__is_divisivel_por(2)\n",
    "    \n",
    "    def get_valor(self):\n",
    "        return int(self._valor)\n",
    "    \n",
    "    def is_primo(self): \n",
    "        is_primo = False\n",
    "        if self.get_valor() > 1:\n",
    "            is_primo = True\n",
    "            for divisor in range(2,self.get_valor()):\n",
    "                if self.__is_divisivel_por(divisor):\n",
    "                    is_primo = False\n",
    "                    break\n",
    "        return is_primo\n",
    "\n",
    "    def is_numero_perfeito(self): \n",
    "        soma = 0\n",
    "        for i in range(1,self.get_valor()):\n",
    "            if (self.get_valor() % i == 0):\n",
    "                soma += i\n",
    "        return soma == self.get_valor()\n",
    "    \n",
    "    \n",
    "x = Numero(4)     \n",
    "print(f'Número: {x.get_valor()}')\n",
    "print(f'Inteiro: {x.is_inteiro()}')\n",
    "print(f'Decimal: {x.is_decimal()}')\n",
    "print(f'Quadrado Perfeito: {x.is_quadrado_perfeito()}')\n",
    "\n",
    "y =Inteiro(31)\n",
    "print(f'Inteiro: {y.get_valor()}')\n",
    "print(f'par: {y.is_par()}')\n",
    "print(f'primo: {y.is_primo()}')\n",
    "print(f'Quadrado Perfeito: {y.is_quadrado_perfeito()}')\n",
    "print(f'Numero Perfeito: {y.is_numero_perfeito()}')\n",
    "\n"
   ]
  },
  {
   "cell_type": "code",
   "execution_count": 47,
   "id": "4d03fb35",
   "metadata": {},
   "outputs": [
    {
     "name": "stdout",
     "output_type": "stream",
     "text": [
      "Informe a quantidade den horas trabalhada no mês: 100\n",
      "Informe o valor hora/salário R$ 9\n",
      "Salario bruto R$ 900.00\n",
      "Desconto Sindicato: R$ 27.00\n",
      "Desconto FGTS     : R$ 99.00\n",
      "Desconto IRPF     : R$ 0.00   ->  Salário Bruto até 900 (inclusive) – isento\n",
      "Salario líquido   : R$ 774.00\n"
     ]
    }
   ],
   "source": []
  },
  {
   "cell_type": "code",
   "execution_count": null,
   "id": "701bc05e",
   "metadata": {},
   "outputs": [],
   "source": []
  },
  {
   "cell_type": "code",
   "execution_count": null,
   "id": "966ead0c",
   "metadata": {},
   "outputs": [],
   "source": []
  },
  {
   "cell_type": "code",
   "execution_count": null,
   "id": "035e4457",
   "metadata": {},
   "outputs": [],
   "source": []
  },
  {
   "cell_type": "code",
   "execution_count": null,
   "id": "99869940",
   "metadata": {},
   "outputs": [],
   "source": []
  },
  {
   "cell_type": "code",
   "execution_count": null,
   "id": "fad26a5f",
   "metadata": {},
   "outputs": [],
   "source": []
  }
 ],
 "metadata": {
  "kernelspec": {
   "display_name": "Python 3 (ipykernel)",
   "language": "python",
   "name": "python3"
  },
  "language_info": {
   "codemirror_mode": {
    "name": "ipython",
    "version": 3
   },
   "file_extension": ".py",
   "mimetype": "text/x-python",
   "name": "python",
   "nbconvert_exporter": "python",
   "pygments_lexer": "ipython3",
   "version": "3.11.3"
  }
 },
 "nbformat": 4,
 "nbformat_minor": 5
}
