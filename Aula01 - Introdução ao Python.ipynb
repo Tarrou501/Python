{
 "cells": [
  {
   "cell_type": "markdown",
   "id": "cd2d1c9b",
   "metadata": {},
   "source": [
    "Exercicio 01 Crie um programa para receber dois variaveis da soma\n"
   ]
  },
  {
   "cell_type": "code",
   "execution_count": null,
   "id": "4baa9f75",
   "metadata": {},
   "outputs": [],
   "source": [
    "x = 1\n",
    "y = 2\n",
    "soma = x + y\n",
    "print(soma)"
   ]
  },
  {
   "cell_type": "markdown",
   "id": "0de2014e",
   "metadata": {},
   "source": [
    " Exercicio 02 Crie um promgrama para receber dois valores e exiba a diferenca\n"
   ]
  },
  {
   "cell_type": "code",
   "execution_count": 6,
   "id": "3660b0a4",
   "metadata": {},
   "outputs": [
    {
     "name": "stdout",
     "output_type": "stream",
     "text": [
      "-2\n"
     ]
    }
   ],
   "source": [
    "x = 2\n",
    "y = 4\n",
    "sub = x -y\n",
    "print (sub)"
   ]
  },
  {
   "cell_type": "markdown",
   "id": "de073840",
   "metadata": {},
   "source": [
    "Exercicio 03 Crie um programa e exbe o produto\n"
   ]
  },
  {
   "cell_type": "code",
   "execution_count": 11,
   "id": "6deb78e6",
   "metadata": {},
   "outputs": [
    {
     "name": "stdout",
     "output_type": "stream",
     "text": [
      "Produto é produto 2 ddd\n",
      "Produto é produto : 2\n"
     ]
    }
   ],
   "source": [
    "valor1 =1\n",
    "valor2 = 2\n",
    "produto = valor1 * valor2\n",
    "print(f\"Produto é produto {produto} ddd\")\n",
    "print(f\"Produto é produto :\",produto)\n"
   ]
  },
  {
   "cell_type": "markdown",
   "id": "39539626",
   "metadata": {},
   "source": [
    "Exercicio 04 Crie um programa q entre com dois valores e retorne o quociente."
   ]
  },
  {
   "cell_type": "code",
   "execution_count": 14,
   "id": "034c4e4e",
   "metadata": {},
   "outputs": [
    {
     "name": "stdout",
     "output_type": "stream",
     "text": [
      "O resultado da divisão é  7.5\n",
      "O resto da divisão é 1\n"
     ]
    }
   ],
   "source": [
    "val1 =15\n",
    "val2 = 2\n",
    "#cálculo da divisão\n",
    "quociente  = val1 /val2\n",
    "#calculo do resto\n",
    "resto = val1 % val2\n",
    "print (\"O resultado da divisão é \",quociente)\n",
    "print(f\"O resto da divisão é {resto}\")"
   ]
  },
  {
   "cell_type": "markdown",
   "id": "5ce417ba",
   "metadata": {},
   "source": [
    "Exercicio 10 Converter de metros para cm"
   ]
  },
  {
   "cell_type": "code",
   "execution_count": 22,
   "id": "6c8076c0",
   "metadata": {},
   "outputs": [
    {
     "name": "stdout",
     "output_type": "stream",
     "text": [
      "Informe o valor em metros para converter em cm: 3\n",
      "O valor é 300\n"
     ]
    }
   ],
   "source": [
    "metros = input(\"Informe o valor em metros para converter em cm: \")\n",
    "metros = int(metros)\n",
    "type(metros)\n",
    "cm = metros * 100\n",
    "print(f\"O valor é {cm}\")"
   ]
  },
  {
   "cell_type": "code",
   "execution_count": 28,
   "id": "e1d8f5b4",
   "metadata": {},
   "outputs": [
    {
     "name": "stdout",
     "output_type": "stream",
     "text": [
      "3.141592653589793\n",
      "informe o raio do circulo: 4\n",
      "A área é 50.27\n"
     ]
    }
   ],
   "source": [
    "#exercicio 11\n",
    "import math\n",
    "\n",
    "pi = math.pi\n",
    "print(pi)\n",
    "\n",
    "raio = input(\"informe o raio do circulo: \")\n",
    "raio = int(raio)\n",
    "area = pi * raio **2\n",
    "area = round(area,3)\n",
    "print(area)\n",
    "#print ('A área é {:.2f}'.format(area))"
   ]
  },
  {
   "cell_type": "code",
   "execution_count": 43,
   "id": "9ce8f44e",
   "metadata": {},
   "outputs": [
    {
     "name": "stdout",
     "output_type": "stream",
     "text": [
      "Informe a lado: 2\n",
      "area é 4.00mm²\n",
      "O dobro é 8.00 mm²\n"
     ]
    }
   ],
   "source": [
    "#exerc 12\n",
    "\n",
    "\n",
    "#o dobro da área\n",
    "lado = input('Informe a lado: ')\n",
    "lado= float(lado)\n",
    "area = Calcula_Area(lado)\n",
    "print(\"area é {:.2f}\".format(area ) +\"mm²\")\n",
    "print(\"O dobro é {:.2f}\".format(Area_dobro(area) ) +\" mm²\")\n",
    "\n",
    "def Calcula_Area(lado):\n",
    "    resultado = lado**2\n",
    "    return resultado\n",
    "\n",
    "def Area_dobro(area):\n",
    "    return area *2\n"
   ]
  },
  {
   "cell_type": "code",
   "execution_count": 42,
   "id": "aa917655",
   "metadata": {},
   "outputs": [
    {
     "name": "stdout",
     "output_type": "stream",
     "text": [
      "Digiteo valor por hora2\n",
      "Digite horas você trabalhadas33\n",
      "Recebendo o valor por hora de R$ 2.0\n",
      "Trabalhando  33.0  horas no Mês\n",
      "Seu saláriop é de R$  66.0\n"
     ]
    }
   ],
   "source": [
    "# Exerc 13\n",
    "valorhora= input('Digiteo valor por hora')\n",
    "valorhora = float(valorhora)\n",
    "\n",
    "horatrab= input('Digite horas você trabalhadas')\n",
    "horatrab= float(horatrab)\n",
    "\n",
    "salario = valorhora * horatrab\n",
    "print('Recebendo o valor por hora de R$',valorhora)\n",
    "print('Trabalhando ', horatrab,' horas no Mês')\n",
    "print('Seu saláriop é de R$ ', salario)\n",
    "\n"
   ]
  },
  {
   "cell_type": "code",
   "execution_count": 45,
   "id": "f30a4ae0",
   "metadata": {},
   "outputs": [
    {
     "name": "stdout",
     "output_type": "stream",
     "text": [
      "Informe a temperatura em Fahrenheit: 2\n",
      "O valor de grau Fahenneit de  2.0  é igua a  -16.666666666666668  Celsius\n"
     ]
    }
   ],
   "source": [
    "# Converter de Fahrenheit para Celsius\n",
    "tempF = input(\"Informe a temperatura em Fahrenheit: \")\n",
    "tempF= float(tempF)\n",
    "tempC = (tempF -32)/1.8\n",
    "print('O valor de grau Fahenneit de ',tempF, ' é igua a ',tempC ,' Celsius') \n"
   ]
  },
  {
   "cell_type": "code",
   "execution_count": null,
   "id": "9d9d5c8d",
   "metadata": {},
   "outputs": [],
   "source": [
    "# Converter de Celsius para Fahrenheit \n",
    "tempC = input(\"Informe a temperatura em Celsius: \")\n",
    "tempC= float(tempC)\n",
    "tempF = (tempF *1.8)+32\n",
    "print('O valor de grau Celsius de ',tempC, ' é igua a ',tempF ,' Fahrenheit') "
   ]
  }
 ],
 "metadata": {
  "kernelspec": {
   "display_name": "Python 3 (ipykernel)",
   "language": "python",
   "name": "python3"
  },
  "language_info": {
   "codemirror_mode": {
    "name": "ipython",
    "version": 3
   },
   "file_extension": ".py",
   "mimetype": "text/x-python",
   "name": "python",
   "nbconvert_exporter": "python",
   "pygments_lexer": "ipython3",
   "version": "3.11.3"
  }
 },
 "nbformat": 4,
 "nbformat_minor": 5
}
