{
 "cells": [
  {
   "cell_type": "markdown",
   "id": "48d9eb68",
   "metadata": {},
   "source": [
    "# Exercício 01 – \n",
    "Crie uma variável chamada \"idade\" e atribua um valor inteiro a ela. Verifique se a idade é maior ou igual a 18 e imprima \"Maior de idade\" ou \"Menor de idade\" de acordo com a condição."
   ]
  },
  {
   "cell_type": "markdown",
   "id": "c966abb2",
   "metadata": {},
   "source": []
  },
  {
   "cell_type": "code",
   "execution_count": 9,
   "id": "816ebd0b",
   "metadata": {},
   "outputs": [
    {
     "name": "stdout",
     "output_type": "stream",
     "text": [
      "Digite a idade: 18\n",
      "Maior de Idade\n"
     ]
    }
   ],
   "source": [
    "idade = int(input('Digite a idade: '))\n",
    "if idade >= 18:\n",
    "    print('Maior de Idade')\n",
    "else:\n",
    "    print('Menor de idade')"
   ]
  },
  {
   "cell_type": "markdown",
   "id": "c97f6872",
   "metadata": {},
   "source": [
    "# Exercício 02 - \n",
    "Crie uma variável chamada \"número\" e atribua um valor inteiro a ela. Verifique se o número é positivo, negativo ou zero e imprima a mensagem correspondente.\n"
   ]
  },
  {
   "cell_type": "code",
   "execution_count": 13,
   "id": "e107f9d1",
   "metadata": {},
   "outputs": [
    {
     "name": "stdout",
     "output_type": "stream",
     "text": [
      "Digite um numero:0\n",
      "igual a zero\n"
     ]
    }
   ],
   "source": [
    "numero = int(input('Digite um numero:'))\n",
    "if numero > 0:\n",
    "    print('Numero maior que zero')\n",
    "elif numero<0:\n",
    "    print('Numero menor que zero')\n",
    "else:\n",
    "    print('igual a zero')"
   ]
  },
  {
   "cell_type": "markdown",
   "id": "706c2431",
   "metadata": {},
   "source": [
    "# Exercício 03 - \n",
    "Crie duas variáveis, \"nota1\" e \"nota2\", e atribua valores numéricos a elas. Verifique se a média das notas é maior ou igual a 7 e imprima \"Aprovado\" ou \"Reprovado\" de acordo com a condição.\n"
   ]
  },
  {
   "cell_type": "code",
   "execution_count": 1,
   "id": "e7900db1",
   "metadata": {},
   "outputs": [
    {
     "name": "stdout",
     "output_type": "stream",
     "text": [
      "Digite nota1: 2\n",
      "Digite nota2: 2\n",
      "Sua média é 2.0 Voce foi reprovado\n"
     ]
    }
   ],
   "source": [
    "nota1 = float(input('Digite nota1: '))\n",
    "nota2 = float(input('Digite nota2: '))\n",
    "\n",
    "def calcula_media(*args):\n",
    "    soma =0\n",
    "    \n",
    "    for argument in args:\n",
    "        soma +=argument\n",
    "    media = soma /len(args)\n",
    "    return media\n",
    "    \n",
    "media = calcula_media(nota1,nota2)    \n",
    "\n",
    "def exibir_resultado(media):\n",
    "    resultado = 'Aprovado' if media >= 7.0 else 'reprovado'\n",
    "    print(f'Sua média é {media} Voce foi {resultado}')\n",
    "\n",
    "exibir_resultado(media)"
   ]
  },
  {
   "cell_type": "markdown",
   "id": "ceb23fac",
   "metadata": {},
   "source": [
    "# Exercício 04 - \n",
    "Crie uma variável chamada \"idade\" e atribua um valor inteiro a ela. Verifique se a idade está dentro do intervalo de 18 a 30 (inclusive) e imprima a mensagem \"Idade válida\" ou \"Idade inválida\" de acordo com a condição.\n"
   ]
  },
  {
   "cell_type": "code",
   "execution_count": 27,
   "id": "1a480980",
   "metadata": {},
   "outputs": [
    {
     "name": "stdout",
     "output_type": "stream",
     "text": [
      "Informe a idade31\n",
      "Idade invalida\n"
     ]
    }
   ],
   "source": [
    "idade = int(input('Informe a idade:'))\n",
    "print('Idade válida' if idade >= 18 and idade <= 30 else 'Idade invalida')"
   ]
  },
  {
   "cell_type": "markdown",
   "id": "36339165",
   "metadata": {},
   "source": [
    "# Exercício 05 \n",
    "Crie uma variável chamada \"numero\" e atribua um valor inteiro a ela. Verifique se o número é par ou ímpar e imprima a mensagem correspondente."
   ]
  },
  {
   "cell_type": "code",
   "execution_count": 30,
   "id": "89b31ffa",
   "metadata": {},
   "outputs": [
    {
     "name": "stdout",
     "output_type": "stream",
     "text": [
      "Digite um numero:6\n",
      "O número é par\n"
     ]
    }
   ],
   "source": [
    "numero = int(input('Digite um numero:'))\n",
    "print('O número é par' if numero % 2 == 0 else 'número é impar')"
   ]
  },
  {
   "cell_type": "markdown",
   "id": "ec6516a4",
   "metadata": {},
   "source": [
    "# Exercício 06 - \n",
    "Crie uma variável chamada \"horario\" e atribua um valor inteiro representando a hora do dia (em formato 24 horas). Verifique se o horário está dentro do período da manhã (das 6h às 12h), da tarde (das 12h às 18h) ou da noite (das 18h às 23h) e imprima a mensagem correspondente."
   ]
  },
  {
   "cell_type": "code",
   "execution_count": 33,
   "id": "9120159c",
   "metadata": {},
   "outputs": [
    {
     "name": "stdout",
     "output_type": "stream",
     "text": [
      "Digite um horario 14\n",
      "Bom tarde\n"
     ]
    }
   ],
   "source": [
    "horario = int(input('Digite um horario '))\n",
    "if horario > 6 and horario <12 :\n",
    "    print('Bom dia')\n",
    "elif horario <= 18:\n",
    "    print('Boa tarde')\n",
    "elif horario <= 23:\n",
    "    print('Boa noite')\n",
    "else:\n",
    "    print('horario inválido')\n",
    "            "
   ]
  },
  {
   "cell_type": "markdown",
   "id": "ffbbf55f",
   "metadata": {},
   "source": [
    "# Exercício 09\n",
    "- Crie uma variável chamada \"ano\" e atribua um valor inteiro representando um ano. Verifique se o ano é bissexto (divisível por 4, mas não por 100, exceto se for divisível por 400) e imprima a mensagem correspondente."
   ]
  },
  {
   "cell_type": "code",
   "execution_count": 37,
   "id": "472b9a52",
   "metadata": {},
   "outputs": [
    {
     "name": "stdout",
     "output_type": "stream",
     "text": [
      "Informe o ano: 2020\n",
      "Ano 2020 é bissexto \n"
     ]
    }
   ],
   "source": [
    "ano = int(input('Informe o ano: '))\n",
    "print(f'Ano {ano} é bissexto ' if (ano % 4 ==0) and ((ano % 100 != 0) or (ano % 400==0)) else f' Ano {ano} é não bissexto') "
   ]
  },
  {
   "cell_type": "markdown",
   "id": "2936e133",
   "metadata": {},
   "source": [
    "# Exercício 25 \n",
    "- Faça um Programa que peça os 3 lados de um triângulo. O programa deverá informar se os valores podem ser um triângulo. Indique, caso os lados formem um triângulo, se ele é: equilátero, isósceles ou escaleno.\n",
    "Dicas:\n",
    "Três lados formam um triângulo quando a soma de quaisquer dois lados for maior que o terceiro;\n",
    "Triângulo Equilátero: três lados iguais;\n",
    "Triângulo Isósceles: quaisquer dois lados iguais;\n",
    "Triângulo Escaleno: três lados diferentes;"
   ]
  },
  {
   "cell_type": "code",
   "execution_count": 50,
   "id": "3d75e421",
   "metadata": {},
   "outputs": [
    {
     "name": "stdout",
     "output_type": "stream",
     "text": [
      "Informe o lado a: 8\n",
      "Informe o lado b: 6\n",
      "Informe o lado c: 15\n",
      "Não é um triangulo\n"
     ]
    }
   ],
   "source": [
    "def is_triangulo(a,b,c):\n",
    "    if (a + b > c) and (a + c > b) and (b + c > a):\n",
    "        return True\n",
    "    else:\n",
    "        return False\n",
    "    \n",
    "a= int(input('Informe o lado a: '))\n",
    "b= int(input('Informe o lado b: '))\n",
    "c= int(input('Informe o lado c: '))\n",
    "\n",
    "if not is_triangulo(a,b,c):\n",
    "    print('Não é um triangulo')\n",
    "else:\n",
    "    if a ==b  and b == c :\n",
    "        print('Triangulo equilatero')\n",
    "    elif (a == b or b == c or a == c):\n",
    "        print('Triangulo isósceles')\n",
    "    else:\n",
    "        print('Triangulo escaleno')"
   ]
  },
  {
   "cell_type": "markdown",
   "id": "c01ebe7c",
   "metadata": {},
   "source": [
    "Exercício 16 - \n",
    "Faça um Programa que leia três números e mostre o maior deles.\n",
    "Exercício 17 - \n",
    "Faça um Programa que leia três números e mostre o maior e o menor\n",
    "deles.\n",
    "Exercício 18 - \n",
    "Faça um programa que pergunte o preço de três produtos e informe qual\n",
    "produto você deve comprar, sabendo que a decisão é sempre pelo mais barato.\n",
    "Exercício 19 - \n",
    "Faça um Programa que leia três números e mostre-os em ordem\n",
    "decrescente"
   ]
  },
  {
   "cell_type": "code",
   "execution_count": 5,
   "id": "bfc9cf75",
   "metadata": {},
   "outputs": [
    {
     "name": "stdout",
     "output_type": "stream",
     "text": [
      "Digite a quantidade de numero:3\n",
      "Digite o numero 1: 2\n",
      "Digite o numero 2: 2\n",
      "Digite o numero 3: 2\n"
     ]
    }
   ],
   "source": [
    "quantidade = int(input('Digite a quantidade de numero:'))\n",
    "\n",
    "vetor =[]\n",
    "for i in range(quantidade):\n",
    "    vetor.append(int(input(f'Digite o numero {i+1}: ')))\n",
    "\n",
    "def menor_numero(vetor):\n",
    "    menor = vetor[0]\n",
    "    for item in vetor:\n",
    "        if  item < menor:\n",
    "            menor = item\n",
    "    return menor\n",
    "\n",
    "def maior_numero(vetor):\n",
    "    maior =vetor[0]\n",
    "    for item in vetor:\n",
    "        if  item > maior:\n",
    "            maior = item\n",
    "    return maior\n",
    "\n",
    "def swap(a,b):\n",
    "    temp =a\n",
    "    a = b\n",
    "    b = a\n",
    "    \n",
    "def ordenacao(vetor):\n",
    "    for i in range(0, len(vetor)-1):\n",
    "        for j in range(len(vetor) -i -1):\n",
    "            if(vetor[j] > vetor[j+1]):\n",
    "                temp = vetor[j] \n",
    "                vetor[j] = vetor[j+1]\n",
    "                vetor[j+1]= temp\n",
    "           # swap(vetor[j],vetor[j+1])\n",
    "    return vetor\n",
    "\n",
    "\n",
    "    \n",
    "print(f'\\nUsando função max e min')\n",
    "print(f'número máximo é : {max(vetor)}')\n",
    "print(f'número mínimo é: {min(vetor)}')\n",
    "\n",
    "print(f'\\n==========================')\n",
    "print(f'O menor número é {menor_numero(vetor)}')\n",
    "print(f'O maior número é {maior_numero(vetor)}')\n",
    "\n",
    "print(f'\\n==========================')\n",
    "print(f'lista não ordenada: {vetor}')\n",
    "vetor = ordenacao(vetor)\n",
    "print(f'lista ordenada: {vetor}')\n",
    "\n"
   ]
  },
  {
   "cell_type": "code",
   "execution_count": 12,
   "id": "3a438195",
   "metadata": {},
   "outputs": [
    {
     "name": "stdout",
     "output_type": "stream",
     "text": [
      "dict_items([(900, 0), (1500, 5)])\n",
      "dict_values([0, 5])\n",
      "900\n",
      "0\n",
      "1500\n",
      "5\n"
     ]
    }
   ],
   "source": [
    "tabela = {900:0,1500:5}\n",
    "print(tabela.items())\n",
    "print(tabela.values())\n",
    "for item in tabela:\n",
    "    print(item)\n",
    "    print(tabela.get(item))"
   ]
  },
  {
   "cell_type": "markdown",
   "id": "9a4562dc",
   "metadata": {},
   "source": [
    "#Exercício 16 - Faça um Programa que leia três números e mostre o maior deles. Exercício "
   ]
  },
  {
   "cell_type": "markdown",
   "id": "a4a5cb90",
   "metadata": {},
   "source": [
    "# Exercício 21 \n",
    "\n",
    "As Organizações Tabajara resolveram dar um aumento de salário aos \n",
    "seus colaboradores e lhe contaram para desenvolver o programa que calculará os \n",
    "reajustes. Faça um programa que recebe o salário de um colaborador e o reajuste \n",
    "segundo o seguinte critério, baseado no salário atual: \n",
    "• salários até R$ 280,00 (incluindo) : aumento de 20%\n",
    "• salários entre R$ 280,00 e R$ 700,00 : aumento de 15%\n",
    "• salários entre R$ 700,00 e R$ 1500,00 : aumento de 10%\n",
    "• salários de R$ 1500,00 em diante : aumento de 5% \n",
    "Após o aumento ser realizado, informe na tela:\n",
    "• salário antes do reajuste;\n",
    "• percentual de aumento aplicado;\n",
    "• valor do aumento;\n",
    "• novo salário, após o aumento.\n"
   ]
  },
  {
   "cell_type": "code",
   "execution_count": 11,
   "id": "307aa53a",
   "metadata": {},
   "outputs": [],
   "source": [
    "salario = float(input('Informe o salario:'))\n",
    "Tabela_salario { 280:20, 700:15,1500:10,0:5}\n",
    "\n",
    "print(salario)\n"
   ]
  },
  {
   "cell_type": "code",
   "execution_count": null,
   "id": "642f13ef",
   "metadata": {},
   "outputs": [],
   "source": []
  },
  {
   "cell_type": "code",
   "execution_count": null,
   "id": "abe3b893",
   "metadata": {},
   "outputs": [],
   "source": []
  },
  {
   "cell_type": "code",
   "execution_count": null,
   "id": "beb86e89",
   "metadata": {},
   "outputs": [],
   "source": []
  }
 ],
 "metadata": {
  "kernelspec": {
   "display_name": "Python 3 (ipykernel)",
   "language": "python",
   "name": "python3"
  },
  "language_info": {
   "codemirror_mode": {
    "name": "ipython",
    "version": 3
   },
   "file_extension": ".py",
   "mimetype": "text/x-python",
   "name": "python",
   "nbconvert_exporter": "python",
   "pygments_lexer": "ipython3",
   "version": "3.11.3"
  }
 },
 "nbformat": 4,
 "nbformat_minor": 5
}
